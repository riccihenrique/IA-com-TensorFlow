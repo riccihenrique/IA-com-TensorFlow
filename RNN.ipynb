{
 "cells": [
  {
   "cell_type": "code",
   "execution_count": null,
   "metadata": {
    "colab": {},
    "colab_type": "code",
    "id": "ynShOu8nNtFt"
   },
   "outputs": [],
   "source": [
    "import tensorflow as tf\n",
    "import numpy as np\n",
    "from tensorflow.keras.datasets import imdb"
   ]
  },
  {
   "cell_type": "markdown",
   "metadata": {
    "colab_type": "text",
    "id": "wB0tNtXJzTfA"
   },
   "source": [
    "### Configurando os parâmetros para a base de dados"
   ]
  },
  {
   "cell_type": "code",
   "execution_count": null,
   "metadata": {
    "colab": {},
    "colab_type": "code",
    "id": "Jw6_KU24SrYK"
   },
   "outputs": [],
   "source": [
    "number_of_words = 20000\n",
    "max_len = 100"
   ]
  },
  {
   "cell_type": "markdown",
   "metadata": {
    "colab_type": "text",
    "id": "ePywR8A4zaxT"
   },
   "source": [
    "### Carregando a base de dados IMDB"
   ]
  },
  {
   "cell_type": "code",
   "execution_count": null,
   "metadata": {
    "colab": {},
    "colab_type": "code",
    "id": "6kCTV_hjOKmE"
   },
   "outputs": [],
   "source": [
    "(X_train, y_train), (X_test, y_test) = imdb.load_data(num_words=number_of_words)"
   ]
  },
  {
   "cell_type": "code",
   "execution_count": null,
   "metadata": {
    "colab": {
     "base_uri": "https://localhost:8080/",
     "height": 34
    },
    "colab_type": "code",
    "executionInfo": {
     "elapsed": 3740,
     "status": "ok",
     "timestamp": 1592067338261,
     "user": {
      "displayName": "Henrique Ramos Ricci",
      "photoUrl": "https://lh3.googleusercontent.com/a-/AOh14GiuAES9VBJL__Y9_uCD4tOCWf6V6S7U0UJyDU7Z_dc=s64",
      "userId": "15408386872278126743"
     },
     "user_tz": 180
    },
    "id": "QNKrXIg9LFPz",
    "outputId": "38ec9010-7da3-4c36-be07-7828d4e82f53"
   },
   "outputs": [],
   "source": [
    "X_train.shape"
   ]
  },
  {
   "cell_type": "code",
   "execution_count": null,
   "metadata": {
    "colab": {
     "base_uri": "https://localhost:8080/",
     "height": 173
    },
    "colab_type": "code",
    "executionInfo": {
     "elapsed": 3008,
     "status": "ok",
     "timestamp": 1592067338262,
     "user": {
      "displayName": "Henrique Ramos Ricci",
      "photoUrl": "https://lh3.googleusercontent.com/a-/AOh14GiuAES9VBJL__Y9_uCD4tOCWf6V6S7U0UJyDU7Z_dc=s64",
      "userId": "15408386872278126743"
     },
     "user_tz": 180
    },
    "id": "ROifMyNHLIg1",
    "outputId": "9ac60ed9-f159-4a06-eb44-3af9034696b6"
   },
   "outputs": [],
   "source": [
    "X_train"
   ]
  },
  {
   "cell_type": "code",
   "execution_count": null,
   "metadata": {
    "colab": {
     "base_uri": "https://localhost:8080/",
     "height": 1000
    },
    "colab_type": "code",
    "executionInfo": {
     "elapsed": 2057,
     "status": "ok",
     "timestamp": 1592067338262,
     "user": {
      "displayName": "Henrique Ramos Ricci",
      "photoUrl": "https://lh3.googleusercontent.com/a-/AOh14GiuAES9VBJL__Y9_uCD4tOCWf6V6S7U0UJyDU7Z_dc=s64",
      "userId": "15408386872278126743"
     },
     "user_tz": 180
    },
    "id": "Y64CL-AsLMo8",
    "outputId": "a7d94a77-0b67-42e0-dffc-d3fd03a01428"
   },
   "outputs": [],
   "source": [
    "X_train[0]"
   ]
  },
  {
   "cell_type": "markdown",
   "metadata": {
    "colab_type": "text",
    "id": "u2FHLgsPMLDd"
   },
   "source": [
    "Base de dados original com os textos: \n",
    "https://www.kaggle.com/lakshmi25npathi/imdb-dataset-of-50k-movie-reviews"
   ]
  },
  {
   "cell_type": "code",
   "execution_count": null,
   "metadata": {
    "colab": {
     "base_uri": "https://localhost:8080/",
     "height": 34
    },
    "colab_type": "code",
    "executionInfo": {
     "elapsed": 2052,
     "status": "ok",
     "timestamp": 1592067344835,
     "user": {
      "displayName": "Henrique Ramos Ricci",
      "photoUrl": "https://lh3.googleusercontent.com/a-/AOh14GiuAES9VBJL__Y9_uCD4tOCWf6V6S7U0UJyDU7Z_dc=s64",
      "userId": "15408386872278126743"
     },
     "user_tz": 180
    },
    "id": "aR5ll0JMMeiC",
    "outputId": "64eebcc7-30a9-4e1a-9f6a-c640d01c5180"
   },
   "outputs": [],
   "source": [
    "y_train"
   ]
  },
  {
   "cell_type": "markdown",
   "metadata": {
    "colab_type": "text",
    "id": "MZKDNoTKzi5w"
   },
   "source": [
    "### Preenchimento das sequências (textos) para terem o mesmo tamanho"
   ]
  },
  {
   "cell_type": "code",
   "execution_count": null,
   "metadata": {
    "colab": {
     "base_uri": "https://localhost:8080/",
     "height": 34
    },
    "colab_type": "code",
    "executionInfo": {
     "elapsed": 2036,
     "status": "ok",
     "timestamp": 1592067347816,
     "user": {
      "displayName": "Henrique Ramos Ricci",
      "photoUrl": "https://lh3.googleusercontent.com/a-/AOh14GiuAES9VBJL__Y9_uCD4tOCWf6V6S7U0UJyDU7Z_dc=s64",
      "userId": "15408386872278126743"
     },
     "user_tz": 180
    },
    "id": "CQzXQ2BRMjrY",
    "outputId": "0c575d74-f74e-4a8a-80ca-8a357cde45db"
   },
   "outputs": [],
   "source": [
    "len(X_train[0])"
   ]
  },
  {
   "cell_type": "code",
   "execution_count": null,
   "metadata": {
    "colab": {
     "base_uri": "https://localhost:8080/",
     "height": 34
    },
    "colab_type": "code",
    "executionInfo": {
     "elapsed": 2237,
     "status": "ok",
     "timestamp": 1592067348528,
     "user": {
      "displayName": "Henrique Ramos Ricci",
      "photoUrl": "https://lh3.googleusercontent.com/a-/AOh14GiuAES9VBJL__Y9_uCD4tOCWf6V6S7U0UJyDU7Z_dc=s64",
      "userId": "15408386872278126743"
     },
     "user_tz": 180
    },
    "id": "7AcQTcaUMneg",
    "outputId": "7a67bdd1-d1c9-4cb3-b756-4a73494c41b0"
   },
   "outputs": [],
   "source": [
    "len(X_train[1])"
   ]
  },
  {
   "cell_type": "code",
   "execution_count": null,
   "metadata": {
    "colab": {},
    "colab_type": "code",
    "id": "LHcMNzv7Pd1s"
   },
   "outputs": [],
   "source": [
    "X_train = tf.keras.preprocessing.sequence.pad_sequences(X_train, maxlen=max_len)"
   ]
  },
  {
   "cell_type": "code",
   "execution_count": null,
   "metadata": {
    "colab": {
     "base_uri": "https://localhost:8080/",
     "height": 34
    },
    "colab_type": "code",
    "executionInfo": {
     "elapsed": 1029,
     "status": "ok",
     "timestamp": 1592067358260,
     "user": {
      "displayName": "Henrique Ramos Ricci",
      "photoUrl": "https://lh3.googleusercontent.com/a-/AOh14GiuAES9VBJL__Y9_uCD4tOCWf6V6S7U0UJyDU7Z_dc=s64",
      "userId": "15408386872278126743"
     },
     "user_tz": 180
    },
    "id": "3mnR-kYlMtrl",
    "outputId": "bbec1811-d1b3-4c2c-b39f-ec559bd96f15"
   },
   "outputs": [],
   "source": [
    "len(X_train[0])"
   ]
  },
  {
   "cell_type": "code",
   "execution_count": null,
   "metadata": {
    "colab": {
     "base_uri": "https://localhost:8080/",
     "height": 34
    },
    "colab_type": "code",
    "executionInfo": {
     "elapsed": 1569,
     "status": "ok",
     "timestamp": 1592067359965,
     "user": {
      "displayName": "Henrique Ramos Ricci",
      "photoUrl": "https://lh3.googleusercontent.com/a-/AOh14GiuAES9VBJL__Y9_uCD4tOCWf6V6S7U0UJyDU7Z_dc=s64",
      "userId": "15408386872278126743"
     },
     "user_tz": 180
    },
    "id": "mMe3pY1VMxxJ",
    "outputId": "b92b62e7-ef33-43d8-c313-9a74a57663e6"
   },
   "outputs": [],
   "source": [
    "len(X_train[1])"
   ]
  },
  {
   "cell_type": "code",
   "execution_count": null,
   "metadata": {
    "colab": {},
    "colab_type": "code",
    "id": "Fcxd--ESP3Rh"
   },
   "outputs": [],
   "source": [
    "X_test = tf.keras.preprocessing.sequence.pad_sequences(X_test, maxlen=max_len)"
   ]
  },
  {
   "cell_type": "markdown",
   "metadata": {
    "colab_type": "text",
    "id": "TUVnz-9K0DcW"
   },
   "source": [
    "### Definindo o modelo"
   ]
  },
  {
   "cell_type": "code",
   "execution_count": null,
   "metadata": {
    "colab": {},
    "colab_type": "code",
    "id": "N2GHzwk6OMrV"
   },
   "outputs": [],
   "source": [
    "model = tf.keras.Sequential()"
   ]
  },
  {
   "cell_type": "markdown",
   "metadata": {
    "colab_type": "text",
    "id": "lnXJZYR-0HXE"
   },
   "source": [
    "### Adicionando a camada de embedding"
   ]
  },
  {
   "cell_type": "code",
   "execution_count": null,
   "metadata": {
    "colab": {
     "base_uri": "https://localhost:8080/",
     "height": 34
    },
    "colab_type": "code",
    "executionInfo": {
     "elapsed": 1515,
     "status": "ok",
     "timestamp": 1592067571845,
     "user": {
      "displayName": "Henrique Ramos Ricci",
      "photoUrl": "https://lh3.googleusercontent.com/a-/AOh14GiuAES9VBJL__Y9_uCD4tOCWf6V6S7U0UJyDU7Z_dc=s64",
      "userId": "15408386872278126743"
     },
     "user_tz": 180
    },
    "id": "D3XDOdlL4Snk",
    "outputId": "8f85b397-c33d-451e-d9e0-ed12604b4f61"
   },
   "outputs": [],
   "source": [
    "X_train.shape[1]"
   ]
  },
  {
   "cell_type": "code",
   "execution_count": null,
   "metadata": {
    "colab": {},
    "colab_type": "code",
    "id": "UWqC0DXbO9FU"
   },
   "outputs": [],
   "source": [
    "model.add(tf.keras.layers.Embedding(input_dim=number_of_words, output_dim=128, input_shape=(X_train.shape[1],)))"
   ]
  },
  {
   "cell_type": "markdown",
   "metadata": {
    "colab_type": "text",
    "id": "kMF3ZUJmNFHR"
   },
   "source": [
    "Embeddings: https://www.tensorflow.org/guide/embedding\n",
    "Artigo Word Embeddings: https://iaexpert.com.br/index.php/2019/04/12/word-embedding-transformando-palavras-em-numeros/"
   ]
  },
  {
   "cell_type": "code",
   "execution_count": null,
   "metadata": {
    "colab": {},
    "colab_type": "code",
    "id": "5W7IXqhjQpAl"
   },
   "outputs": [],
   "source": [
    "model.add(tf.keras.layers.LSTM(units=128, activation='tanh'))"
   ]
  },
  {
   "cell_type": "code",
   "execution_count": null,
   "metadata": {
    "colab": {},
    "colab_type": "code",
    "id": "xe1nHzq7Q91-"
   },
   "outputs": [],
   "source": [
    "model.add(tf.keras.layers.Dense(units=1, activation='sigmoid'))"
   ]
  },
  {
   "cell_type": "markdown",
   "metadata": {
    "colab_type": "text",
    "id": "VWcqM4Yr2ALS"
   },
   "source": [
    "### Compilando o modelo"
   ]
  },
  {
   "cell_type": "code",
   "execution_count": null,
   "metadata": {
    "colab": {},
    "colab_type": "code",
    "id": "-z9ACOXcRUUN"
   },
   "outputs": [],
   "source": [
    "model.compile(optimizer='rmsprop', loss='binary_crossentropy', metrics=['accuracy'])"
   ]
  },
  {
   "cell_type": "code",
   "execution_count": null,
   "metadata": {
    "colab": {
     "base_uri": "https://localhost:8080/",
     "height": 255
    },
    "colab_type": "code",
    "executionInfo": {
     "elapsed": 1575,
     "status": "ok",
     "timestamp": 1592067774077,
     "user": {
      "displayName": "Henrique Ramos Ricci",
      "photoUrl": "https://lh3.googleusercontent.com/a-/AOh14GiuAES9VBJL__Y9_uCD4tOCWf6V6S7U0UJyDU7Z_dc=s64",
      "userId": "15408386872278126743"
     },
     "user_tz": 180
    },
    "id": "PiolKKO6RjVF",
    "outputId": "2dc1c928-67c1-46f3-98ad-0ba0b1c100fa"
   },
   "outputs": [],
   "source": [
    "model.summary()"
   ]
  },
  {
   "cell_type": "markdown",
   "metadata": {
    "colab_type": "text",
    "id": "2bPUvbfe2GJI"
   },
   "source": [
    "### Treinando o modelo"
   ]
  },
  {
   "cell_type": "code",
   "execution_count": null,
   "metadata": {
    "colab": {
     "base_uri": "https://localhost:8080/",
     "height": 901
    },
    "colab_type": "code",
    "executionInfo": {
     "elapsed": 160321,
     "status": "ok",
     "timestamp": 1592071042798,
     "user": {
      "displayName": "Henrique Ramos Ricci",
      "photoUrl": "https://lh3.googleusercontent.com/a-/AOh14GiuAES9VBJL__Y9_uCD4tOCWf6V6S7U0UJyDU7Z_dc=s64",
      "userId": "15408386872278126743"
     },
     "user_tz": 180
    },
    "id": "9FqUTA1CRpQ8",
    "outputId": "19cb7b2e-5680-453a-f596-5d481f11ef8d"
   },
   "outputs": [],
   "source": [
    "model.fit(X_train, y_train, epochs=25, batch_size=128)"
   ]
  },
  {
   "cell_type": "markdown",
   "metadata": {
    "colab_type": "text",
    "id": "-wMo2wYpbCgb"
   },
   "source": [
    "### Avaliando o modelo"
   ]
  },
  {
   "cell_type": "code",
   "execution_count": null,
   "metadata": {
    "colab": {
     "base_uri": "https://localhost:8080/",
     "height": 54
    },
    "colab_type": "code",
    "executionInfo": {
     "elapsed": 7055,
     "status": "ok",
     "timestamp": 1592070577053,
     "user": {
      "displayName": "Henrique Ramos Ricci",
      "photoUrl": "https://lh3.googleusercontent.com/a-/AOh14GiuAES9VBJL__Y9_uCD4tOCWf6V6S7U0UJyDU7Z_dc=s64",
      "userId": "15408386872278126743"
     },
     "user_tz": 180
    },
    "id": "a8kD_6q-RySO",
    "outputId": "41bd38ad-61fa-4798-f425-d5369af0d382"
   },
   "outputs": [],
   "source": [
    "test_loss, test_acurracy = model.evaluate(X_test, y_test)"
   ]
  },
  {
   "cell_type": "code",
   "execution_count": null,
   "metadata": {
    "colab": {
     "base_uri": "https://localhost:8080/",
     "height": 34
    },
    "colab_type": "code",
    "executionInfo": {
     "elapsed": 1529,
     "status": "ok",
     "timestamp": 1592070579656,
     "user": {
      "displayName": "Henrique Ramos Ricci",
      "photoUrl": "https://lh3.googleusercontent.com/a-/AOh14GiuAES9VBJL__Y9_uCD4tOCWf6V6S7U0UJyDU7Z_dc=s64",
      "userId": "15408386872278126743"
     },
     "user_tz": 180
    },
    "id": "C0XnUtS-cEeI",
    "outputId": "4c2ba93d-941e-4f90-ce52-32838ff369f6"
   },
   "outputs": [],
   "source": [
    "print(\"Test accuracy: {}\".format(test_acurracy))"
   ]
  },
  {
   "cell_type": "code",
   "execution_count": null,
   "metadata": {
    "colab": {
     "base_uri": "https://localhost:8080/",
     "height": 34
    },
    "colab_type": "code",
    "executionInfo": {
     "elapsed": 1450,
     "status": "ok",
     "timestamp": 1592070588306,
     "user": {
      "displayName": "Henrique Ramos Ricci",
      "photoUrl": "https://lh3.googleusercontent.com/a-/AOh14GiuAES9VBJL__Y9_uCD4tOCWf6V6S7U0UJyDU7Z_dc=s64",
      "userId": "15408386872278126743"
     },
     "user_tz": 180
    },
    "id": "SyazAcI7Oxiu",
    "outputId": "fc82998d-cdaa-4133-f68d-1cdc154f74b5"
   },
   "outputs": [],
   "source": [
    "test_loss"
   ]
  },
  {
   "cell_type": "code",
   "execution_count": null,
   "metadata": {
    "colab": {
     "base_uri": "https://localhost:8080/",
     "height": 34
    },
    "colab_type": "code",
    "executionInfo": {
     "elapsed": 1201,
     "status": "ok",
     "timestamp": 1592070590250,
     "user": {
      "displayName": "Henrique Ramos Ricci",
      "photoUrl": "https://lh3.googleusercontent.com/a-/AOh14GiuAES9VBJL__Y9_uCD4tOCWf6V6S7U0UJyDU7Z_dc=s64",
      "userId": "15408386872278126743"
     },
     "user_tz": 180
    },
    "id": "FngzUBBKpEBH",
    "outputId": "dd4218dd-970d-4491-804c-7b1c4c9fc3af"
   },
   "outputs": [],
   "source": [
    "model.predict_classes(np.array([X_test[0]]))"
   ]
  },
  {
   "cell_type": "code",
   "execution_count": null,
   "metadata": {
    "colab": {
     "base_uri": "https://localhost:8080/",
     "height": 34
    },
    "colab_type": "code",
    "executionInfo": {
     "elapsed": 2417,
     "status": "ok",
     "timestamp": 1592070594460,
     "user": {
      "displayName": "Henrique Ramos Ricci",
      "photoUrl": "https://lh3.googleusercontent.com/a-/AOh14GiuAES9VBJL__Y9_uCD4tOCWf6V6S7U0UJyDU7Z_dc=s64",
      "userId": "15408386872278126743"
     },
     "user_tz": 180
    },
    "id": "la8jEdiMpP_X",
    "outputId": "e42bc07b-022f-40a1-9897-01d9bc8e9bca"
   },
   "outputs": [],
   "source": [
    "y_test[0]"
   ]
  }
 ],
 "metadata": {
  "accelerator": "GPU",
  "colab": {
   "collapsed_sections": [],
   "name": "Construindo uma Rede Neural Recorrente no TensorFlow 2.0.ipynb",
   "provenance": [
    {
     "file_id": "1jHKZtzLQAFAm5-81lKLjYZkELm03tOI1",
     "timestamp": 1592064689245
    },
    {
     "file_id": "1uMHtkpmp1dLVd_IevvJEXNn3nR1spMGl",
     "timestamp": 1568420418702
    },
    {
     "file_id": "12OM3ntGfd38dUqLJ-Nk82RwKTz3POWGa",
     "timestamp": 1558700851251
    }
   ]
  },
  "kernelspec": {
   "display_name": "Python 3",
   "language": "python",
   "name": "python3"
  },
  "language_info": {
   "codemirror_mode": {
    "name": "ipython",
    "version": 3
   },
   "file_extension": ".py",
   "mimetype": "text/x-python",
   "name": "python",
   "nbconvert_exporter": "python",
   "pygments_lexer": "ipython3",
   "version": "3.7.6"
  }
 },
 "nbformat": 4,
 "nbformat_minor": 1
}
