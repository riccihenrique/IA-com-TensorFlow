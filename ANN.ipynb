{
 "cells": [
  {
   "cell_type": "code",
   "execution_count": null,
   "metadata": {
    "colab": {
     "base_uri": "https://localhost:8080/",
     "height": 1000
    },
    "colab_type": "code",
    "executionInfo": {
     "elapsed": 66314,
     "status": "ok",
     "timestamp": 1591991185291,
     "user": {
      "displayName": "Henrique Ramos Ricci",
      "photoUrl": "",
      "userId": "12588248443939115501"
     },
     "user_tz": 180
    },
    "id": "WS6fShx3Za4O",
    "outputId": "7936daca-e72c-47ab-9a97-d73fa0a3d03a"
   },
   "outputs": [],
   "source": [
    "!pip install tensorflow-gpu"
   ]
  },
  {
   "cell_type": "code",
   "execution_count": null,
   "metadata": {
    "colab": {},
    "colab_type": "code",
    "id": "yt0-hrch6rZw"
   },
   "outputs": [],
   "source": [
    "import numpy as np\n",
    "import datetime\n",
    "import tensorflow as tf\n",
    "from tensorflow.keras.datasets import fashion_mnist"
   ]
  },
  {
   "cell_type": "markdown",
   "metadata": {
    "colab_type": "text",
    "id": "DdfoFiEEXYj1"
   },
   "source": [
    "### Carregando a base de dados"
   ]
  },
  {
   "cell_type": "code",
   "execution_count": null,
   "metadata": {
    "colab": {
     "base_uri": "https://localhost:8080/",
     "height": 156
    },
    "colab_type": "code",
    "executionInfo": {
     "elapsed": 59651,
     "status": "ok",
     "timestamp": 1591991187077,
     "user": {
      "displayName": "Henrique Ramos Ricci",
      "photoUrl": "",
      "userId": "12588248443939115501"
     },
     "user_tz": 180
    },
    "id": "-lCgz6UC8pKT",
    "outputId": "220ca4f3-72f2-4dde-8c9e-7c75e6e0faef"
   },
   "outputs": [],
   "source": [
    "(X_train, y_train), (X_test, y_test) = fashion_mnist.load_data()"
   ]
  },
  {
   "cell_type": "code",
   "execution_count": null,
   "metadata": {
    "colab": {
     "base_uri": "https://localhost:8080/",
     "height": 868
    },
    "colab_type": "code",
    "executionInfo": {
     "elapsed": 63093,
     "status": "ok",
     "timestamp": 1591991191313,
     "user": {
      "displayName": "Henrique Ramos Ricci",
      "photoUrl": "",
      "userId": "12588248443939115501"
     },
     "user_tz": 180
    },
    "id": "Noa1UZKpCDfA",
    "outputId": "8a2fe464-57e1-42ce-a871-b81eb6c6efa9"
   },
   "outputs": [],
   "source": [
    "X_train"
   ]
  },
  {
   "cell_type": "code",
   "execution_count": null,
   "metadata": {
    "colab": {
     "base_uri": "https://localhost:8080/",
     "height": 1000
    },
    "colab_type": "code",
    "executionInfo": {
     "elapsed": 60593,
     "status": "ok",
     "timestamp": 1591991191315,
     "user": {
      "displayName": "Henrique Ramos Ricci",
      "photoUrl": "",
      "userId": "12588248443939115501"
     },
     "user_tz": 180
    },
    "id": "BsFr_QN4CIol",
    "outputId": "0dff0b9f-e939-47e6-e502-ef8999ad7436"
   },
   "outputs": [],
   "source": [
    "X_train[0]"
   ]
  },
  {
   "cell_type": "code",
   "execution_count": null,
   "metadata": {
    "colab": {
     "base_uri": "https://localhost:8080/",
     "height": 1000
    },
    "colab_type": "code",
    "executionInfo": {
     "elapsed": 58706,
     "status": "ok",
     "timestamp": 1591991191317,
     "user": {
      "displayName": "Henrique Ramos Ricci",
      "photoUrl": "",
      "userId": "12588248443939115501"
     },
     "user_tz": 180
    },
    "id": "N_E2Sv70z6Sh",
    "outputId": "fb233240-986f-4a3a-b14b-2dd238704db6"
   },
   "outputs": [],
   "source": [
    "X_test[0]"
   ]
  },
  {
   "cell_type": "code",
   "execution_count": null,
   "metadata": {
    "colab": {
     "base_uri": "https://localhost:8080/",
     "height": 34
    },
    "colab_type": "code",
    "executionInfo": {
     "elapsed": 54741,
     "status": "ok",
     "timestamp": 1591991191319,
     "user": {
      "displayName": "Henrique Ramos Ricci",
      "photoUrl": "",
      "userId": "12588248443939115501"
     },
     "user_tz": 180
    },
    "id": "64KujWQOCTOw",
    "outputId": "3c595e3c-a165-4d36-995c-e0264a77d238"
   },
   "outputs": [],
   "source": [
    "y_train"
   ]
  },
  {
   "cell_type": "code",
   "execution_count": null,
   "metadata": {
    "colab": {
     "base_uri": "https://localhost:8080/",
     "height": 34
    },
    "colab_type": "code",
    "executionInfo": {
     "elapsed": 53816,
     "status": "ok",
     "timestamp": 1591991191319,
     "user": {
      "displayName": "Henrique Ramos Ricci",
      "photoUrl": "",
      "userId": "12588248443939115501"
     },
     "user_tz": 180
    },
    "id": "Rjw0rIOICV2E",
    "outputId": "690d26f9-f6e8-451a-8950-43ac36a49b73"
   },
   "outputs": [],
   "source": [
    "y_train[0]"
   ]
  },
  {
   "cell_type": "markdown",
   "metadata": {
    "colab_type": "text",
    "id": "AYxeEHzDXdSs"
   },
   "source": [
    "### Normalizando as imagens"
   ]
  },
  {
   "cell_type": "code",
   "execution_count": null,
   "metadata": {
    "colab": {},
    "colab_type": "code",
    "id": "zvWzsB3G9IU8"
   },
   "outputs": [],
   "source": [
    "X_train = X_train / 255.0"
   ]
  },
  {
   "cell_type": "code",
   "execution_count": null,
   "metadata": {
    "colab": {},
    "colab_type": "code",
    "id": "lo--rpqo9ZtA"
   },
   "outputs": [],
   "source": [
    "X_test = X_test / 255.0"
   ]
  },
  {
   "cell_type": "code",
   "execution_count": null,
   "metadata": {
    "colab": {
     "base_uri": "https://localhost:8080/",
     "height": 1000
    },
    "colab_type": "code",
    "executionInfo": {
     "elapsed": 51958,
     "status": "ok",
     "timestamp": 1591991191980,
     "user": {
      "displayName": "Henrique Ramos Ricci",
      "photoUrl": "",
      "userId": "12588248443939115501"
     },
     "user_tz": 180
    },
    "id": "qxhA1vvICcgj",
    "outputId": "980963fe-be14-43b9-f5a7-3831b315a546"
   },
   "outputs": [],
   "source": [
    "X_train[0]"
   ]
  },
  {
   "cell_type": "markdown",
   "metadata": {
    "colab_type": "text",
    "id": "uBacLmGIX0Es"
   },
   "source": [
    "### Remodelando (reshaping) a base de dados"
   ]
  },
  {
   "cell_type": "code",
   "execution_count": null,
   "metadata": {
    "colab": {
     "base_uri": "https://localhost:8080/",
     "height": 34
    },
    "colab_type": "code",
    "executionInfo": {
     "elapsed": 49695,
     "status": "ok",
     "timestamp": 1591991191982,
     "user": {
      "displayName": "Henrique Ramos Ricci",
      "photoUrl": "",
      "userId": "12588248443939115501"
     },
     "user_tz": 180
    },
    "id": "bR6UvdpDChqJ",
    "outputId": "936a6c5e-e32d-4134-d777-e458553babc8"
   },
   "outputs": [],
   "source": [
    "X_train.shape"
   ]
  },
  {
   "cell_type": "code",
   "execution_count": null,
   "metadata": {
    "colab": {},
    "colab_type": "code",
    "id": "2Tao7pom-grn"
   },
   "outputs": [],
   "source": [
    "# Como a dimensão de cada imagem é 28x28, mudamos toda a base de dados para o formato [-1 (todos os elementos), altura * largura]\n",
    "X_train = X_train.reshape(-1, 28*28)"
   ]
  },
  {
   "cell_type": "code",
   "execution_count": null,
   "metadata": {
    "colab": {
     "base_uri": "https://localhost:8080/",
     "height": 34
    },
    "colab_type": "code",
    "executionInfo": {
     "elapsed": 48341,
     "status": "ok",
     "timestamp": 1591991191992,
     "user": {
      "displayName": "Henrique Ramos Ricci",
      "photoUrl": "",
      "userId": "12588248443939115501"
     },
     "user_tz": 180
    },
    "id": "t9MbMrg9-kr_",
    "outputId": "e5e92fc0-fadd-4fd1-c7aa-9dd5d7e71199"
   },
   "outputs": [],
   "source": [
    "X_train.shape"
   ]
  },
  {
   "cell_type": "code",
   "execution_count": null,
   "metadata": {
    "colab": {
     "base_uri": "https://localhost:8080/",
     "height": 1000
    },
    "colab_type": "code",
    "executionInfo": {
     "elapsed": 47120,
     "status": "ok",
     "timestamp": 1591991191993,
     "user": {
      "displayName": "Henrique Ramos Ricci",
      "photoUrl": "",
      "userId": "12588248443939115501"
     },
     "user_tz": 180
    },
    "id": "PluazdGHEx2w",
    "outputId": "f153eb11-8dc8-4c97-df3e-1dcbcdf4eb46"
   },
   "outputs": [],
   "source": [
    "X_train[0]"
   ]
  },
  {
   "cell_type": "code",
   "execution_count": null,
   "metadata": {
    "colab": {},
    "colab_type": "code",
    "id": "Y_duQGtbCTTL"
   },
   "outputs": [],
   "source": [
    "# Mudamos também a dimensão da base de teste\n",
    "X_test = X_test.reshape(-1, 28*28)"
   ]
  },
  {
   "cell_type": "code",
   "execution_count": null,
   "metadata": {
    "colab": {
     "base_uri": "https://localhost:8080/",
     "height": 34
    },
    "colab_type": "code",
    "executionInfo": {
     "elapsed": 1007,
     "status": "ok",
     "timestamp": 1591984614286,
     "user": {
      "displayName": "Henrique Ramos Ricci",
      "photoUrl": "",
      "userId": "12588248443939115501"
     },
     "user_tz": 180
    },
    "id": "b5Lheay7FSlK",
    "outputId": "e851f0f2-a57a-4477-de24-b5c3baf50adf"
   },
   "outputs": [],
   "source": [
    "X_test.shape"
   ]
  },
  {
   "cell_type": "markdown",
   "metadata": {
    "colab_type": "text",
    "id": "l30aZ6-GYtUP"
   },
   "source": [
    "### Definindo o modelo"
   ]
  },
  {
   "cell_type": "code",
   "execution_count": null,
   "metadata": {
    "colab": {},
    "colab_type": "code",
    "id": "xmfogzmn9kqv"
   },
   "outputs": [],
   "source": [
    "model = tf.keras.models.Sequential()"
   ]
  },
  {
   "cell_type": "code",
   "execution_count": null,
   "metadata": {
    "colab": {},
    "colab_type": "code",
    "id": "GBsfDyGE-FX5"
   },
   "outputs": [],
   "source": [
    "model.add(tf.keras.layers.Dense(units=400, activation='relu', input_shape=(784, )))"
   ]
  },
  {
   "cell_type": "code",
   "execution_count": null,
   "metadata": {
    "colab": {},
    "colab_type": "code",
    "id": "tAmpLPlr-pOX"
   },
   "outputs": [],
   "source": [
    "model.add(tf.keras.layers.Dropout(0.2))"
   ]
  },
  {
   "cell_type": "code",
   "execution_count": null,
   "metadata": {
    "colab": {},
    "colab_type": "code",
    "id": "OmkUuF9Y-3mG"
   },
   "outputs": [],
   "source": [
    "model.add(tf.keras.layers.Dense(units=10, activation='softmax'))"
   ]
  },
  {
   "cell_type": "code",
   "execution_count": null,
   "metadata": {
    "colab": {},
    "colab_type": "code",
    "id": "nbW3xeRK_CrN"
   },
   "outputs": [],
   "source": [
    "model.compile(optimizer='adam', loss='sparse_categorical_crossentropy', metrics=['sparse_categorical_accuracy'])"
   ]
  },
  {
   "cell_type": "code",
   "execution_count": null,
   "metadata": {
    "colab": {
     "base_uri": "https://localhost:8080/",
     "height": 260
    },
    "colab_type": "code",
    "executionInfo": {
     "elapsed": 35977,
     "status": "ok",
     "timestamp": 1591991194342,
     "user": {
      "displayName": "Henrique Ramos Ricci",
      "photoUrl": "",
      "userId": "12588248443939115501"
     },
     "user_tz": 180
    },
    "id": "8dQOL_EtChrN",
    "outputId": "a137e115-2e7c-4d93-f0cb-ab6ffcf76cb3"
   },
   "outputs": [],
   "source": [
    "model.summary()"
   ]
  },
  {
   "cell_type": "markdown",
   "metadata": {
    "colab_type": "text",
    "id": "9kxIIFU1cany"
   },
   "source": [
    "### Treinando o modelo"
   ]
  },
  {
   "cell_type": "code",
   "execution_count": null,
   "metadata": {
    "colab": {
     "base_uri": "https://localhost:8080/",
     "height": 1000
    },
    "colab_type": "code",
    "executionInfo": {
     "elapsed": 174197,
     "status": "ok",
     "timestamp": 1591991333886,
     "user": {
      "displayName": "Henrique Ramos Ricci",
      "photoUrl": "",
      "userId": "12588248443939115501"
     },
     "user_tz": 180
    },
    "id": "s-_oLiE0_3A2",
    "outputId": "c2d7d86b-7e97-4920-d1b4-54141e72934f"
   },
   "outputs": [],
   "source": [
    "model.fit(X_train, y_train, epochs=30)"
   ]
  },
  {
   "cell_type": "markdown",
   "metadata": {
    "colab_type": "text",
    "id": "mj23nxmtcrhd"
   },
   "source": [
    "### Avaliação do modelo e previsão"
   ]
  },
  {
   "cell_type": "code",
   "execution_count": null,
   "metadata": {
    "colab": {
     "base_uri": "https://localhost:8080/",
     "height": 54
    },
    "colab_type": "code",
    "executionInfo": {
     "elapsed": 1890,
     "status": "ok",
     "timestamp": 1591986671567,
     "user": {
      "displayName": "Henrique Ramos Ricci",
      "photoUrl": "",
      "userId": "12588248443939115501"
     },
     "user_tz": 180
    },
    "id": "-nQCioOmAL7i",
    "outputId": "6df5064b-0687-4b04-c10d-6e7df0d4b256"
   },
   "outputs": [],
   "source": [
    "test_loss, test_accuracy = model.evaluate(X_test, y_test)"
   ]
  },
  {
   "cell_type": "code",
   "execution_count": null,
   "metadata": {
    "colab": {},
    "colab_type": "code",
    "id": "Ozv2YVlxcx1h"
   },
   "outputs": [],
   "source": [
    "print(\"Test accuracy: {}\".format(test_accuracy))"
   ]
  },
  {
   "cell_type": "code",
   "execution_count": null,
   "metadata": {
    "colab": {},
    "colab_type": "code",
    "id": "lvpH8jfvDjAD"
   },
   "outputs": [],
   "source": [
    "test_loss"
   ]
  },
  {
   "cell_type": "code",
   "execution_count": null,
   "metadata": {
    "colab": {},
    "colab_type": "code",
    "id": "OwLpmbFD0uCi"
   },
   "outputs": [],
   "source": [
    "np.array(X_test[0])"
   ]
  },
  {
   "cell_type": "code",
   "execution_count": null,
   "metadata": {
    "colab": {},
    "colab_type": "code",
    "id": "7qf6RmHqzbw6"
   },
   "outputs": [],
   "source": [
    "model.predict_classes(np.array([X_test[0]]))[0] == y_test[0]"
   ]
  },
  {
   "cell_type": "code",
   "execution_count": null,
   "metadata": {
    "colab": {},
    "colab_type": "code",
    "id": "-jU7h8ti0BF3"
   },
   "outputs": [],
   "source": [
    "model_json = model.to_json()\n",
    "with open(\"fashion_model.json\", \"w\") as json_file:\n",
    "    json_file.write(model_json)"
   ]
  },
  {
   "cell_type": "code",
   "execution_count": null,
   "metadata": {
    "colab": {},
    "colab_type": "code",
    "id": "dzehWuiC6GOF"
   },
   "outputs": [],
   "source": [
    "model.save_weights(\"fashion_model.h5\")"
   ]
  },
  {
   "cell_type": "code",
   "execution_count": null,
   "metadata": {
    "colab": {},
    "colab_type": "code",
    "id": "MtpM8NycEDfg"
   },
   "outputs": [],
   "source": [
    "np.savetxt(\"train.csv\", X_train, delimiter=\",\")\n",
    "np.savetxt(\"test.csv\", X_test, delimiter=\",\")"
   ]
  }
 ],
 "metadata": {
  "accelerator": "GPU",
  "colab": {
   "collapsed_sections": [],
   "name": "Classificador de Roupas.ipynb",
   "provenance": [
    {
     "file_id": "1knvLkiSMK-QM2qNSnKPEuvR5HQA4oXCU",
     "timestamp": 1591984039369
    },
    {
     "file_id": "17jqM6EqCaDENJTcUvAuo6DOf3IKYC571",
     "timestamp": 1568417207830
    },
    {
     "file_id": "1tj02zPuUkkbLob1oo63f9TliYj5DQHA3",
     "timestamp": 1558700825389
    }
   ]
  },
  "kernelspec": {
   "display_name": "Python 3",
   "language": "python",
   "name": "python3"
  },
  "language_info": {
   "codemirror_mode": {
    "name": "ipython",
    "version": 3
   },
   "file_extension": ".py",
   "mimetype": "text/x-python",
   "name": "python",
   "nbconvert_exporter": "python",
   "pygments_lexer": "ipython3",
   "version": "3.7.6"
  }
 },
 "nbformat": 4,
 "nbformat_minor": 1
}
