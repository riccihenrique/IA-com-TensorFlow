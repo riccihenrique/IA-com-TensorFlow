{
 "cells": [
  {
   "cell_type": "code",
   "execution_count": 1,
   "metadata": {
    "colab": {
     "base_uri": "https://localhost:8080/",
     "height": 34
    },
    "colab_type": "code",
    "executionInfo": {
     "elapsed": 70924,
     "status": "ok",
     "timestamp": 1592057665726,
     "user": {
      "displayName": "Henrique Ramos Ricci",
      "photoUrl": "",
      "userId": "12588248443939115501"
     },
     "user_tz": 180
    },
    "id": "tS5xFeQwe9Xu",
    "outputId": "b45a359e-dfb5-4ba9-ddba-29d9d5a74d3f"
   },
   "outputs": [],
   "source": [
    "import tensorflow as tf\n",
    "import matplotlib.pyplot as plt\n",
    "\n",
    "from tensorflow.keras.datasets import cifar10\n",
    "\n",
    "%matplotlib inline"
   ]
  },
  {
   "cell_type": "markdown",
   "metadata": {
    "colab_type": "text",
    "id": "AOAGjiPogF0w"
   },
   "source": [
    "### Carregando a base de dados Cifar10"
   ]
  },
  {
   "cell_type": "code",
   "execution_count": null,
   "metadata": {
    "colab": {},
    "colab_type": "code",
    "id": "v1N6LbS-e9a1"
   },
   "outputs": [],
   "source": [
    "# Configurando o nome das classes que serão previstas\n",
    "class_names = ['airplane', 'automobile', 'bird', 'cat', 'deer', 'dog', 'frog', 'horse', 'ship', 'truck']"
   ]
  },
  {
   "cell_type": "code",
   "execution_count": null,
   "metadata": {
    "colab": {
     "base_uri": "https://localhost:8080/",
     "height": 51
    },
    "colab_type": "code",
    "executionInfo": {
     "elapsed": 6629,
     "status": "ok",
     "timestamp": 1592057723570,
     "user": {
      "displayName": "Henrique Ramos Ricci",
      "photoUrl": "",
      "userId": "12588248443939115501"
     },
     "user_tz": 180
    },
    "id": "f13-8-m_fqKP",
    "outputId": "9c923dec-2d07-463f-a7b5-951b979e0717"
   },
   "outputs": [],
   "source": [
    "# Carregando a base de dados\n",
    "(X_train, y_train), (X_test, y_test) = cifar10.load_data()"
   ]
  },
  {
   "cell_type": "markdown",
   "metadata": {
    "colab_type": "text",
    "id": "XqDIpsJWgUkz"
   },
   "source": [
    "### Normalização das imagens"
   ]
  },
  {
   "cell_type": "code",
   "execution_count": null,
   "metadata": {
    "colab": {
     "base_uri": "https://localhost:8080/",
     "height": 850
    },
    "colab_type": "code",
    "executionInfo": {
     "elapsed": 716,
     "status": "ok",
     "timestamp": 1592057726362,
     "user": {
      "displayName": "Henrique Ramos Ricci",
      "photoUrl": "",
      "userId": "12588248443939115501"
     },
     "user_tz": 180
    },
    "id": "ohcM5aeFpf2v",
    "outputId": "0d77dc2a-9c5a-4832-e609-b7488a003e12"
   },
   "outputs": [],
   "source": [
    "X_train[0]"
   ]
  },
  {
   "cell_type": "code",
   "execution_count": null,
   "metadata": {
    "colab": {},
    "colab_type": "code",
    "id": "-QFncPlpgNmU"
   },
   "outputs": [],
   "source": [
    "X_train = X_train / 255.0"
   ]
  },
  {
   "cell_type": "code",
   "execution_count": null,
   "metadata": {
    "colab": {
     "base_uri": "https://localhost:8080/",
     "height": 34
    },
    "colab_type": "code",
    "executionInfo": {
     "elapsed": 699,
     "status": "ok",
     "timestamp": 1592057731360,
     "user": {
      "displayName": "Henrique Ramos Ricci",
      "photoUrl": "",
      "userId": "12588248443939115501"
     },
     "user_tz": 180
    },
    "id": "L1rFHX67gc6G",
    "outputId": "b6fd96d4-2e7f-4c88-c4ac-516fa9b57519"
   },
   "outputs": [],
   "source": [
    "X_train.shape"
   ]
  },
  {
   "cell_type": "code",
   "execution_count": null,
   "metadata": {
    "colab": {},
    "colab_type": "code",
    "id": "Ve2WbRGWgc3I"
   },
   "outputs": [],
   "source": [
    "X_test = X_test / 255.0"
   ]
  },
  {
   "cell_type": "code",
   "execution_count": null,
   "metadata": {
    "colab": {
     "base_uri": "https://localhost:8080/",
     "height": 283
    },
    "colab_type": "code",
    "executionInfo": {
     "elapsed": 644,
     "status": "ok",
     "timestamp": 1592057748820,
     "user": {
      "displayName": "Henrique Ramos Ricci",
      "photoUrl": "",
      "userId": "12588248443939115501"
     },
     "user_tz": 180
    },
    "id": "7jwvNZ82gh9d",
    "outputId": "09e9dacc-6b07-4761-c23f-78f4ab6478b2"
   },
   "outputs": [],
   "source": [
    "plt.imshow(X_test[100])"
   ]
  },
  {
   "cell_type": "code",
   "execution_count": null,
   "metadata": {
    "colab": {
     "base_uri": "https://localhost:8080/",
     "height": 34
    },
    "colab_type": "code",
    "executionInfo": {
     "elapsed": 648,
     "status": "ok",
     "timestamp": 1592057879284,
     "user": {
      "displayName": "Henrique Ramos Ricci",
      "photoUrl": "",
      "userId": "12588248443939115501"
     },
     "user_tz": 180
    },
    "id": "n_03wXRSCtm7",
    "outputId": "1704d405-c3dd-4bfd-df35-722c4713c497"
   },
   "outputs": [],
   "source": [
    "X_train[0].shape"
   ]
  },
  {
   "cell_type": "markdown",
   "metadata": {
    "colab_type": "text",
    "id": "ZFTetk8ngy0f"
   },
   "source": [
    "### Definindo o modelo"
   ]
  },
  {
   "cell_type": "code",
   "execution_count": null,
   "metadata": {
    "colab": {},
    "colab_type": "code",
    "id": "1TR0JGP5gq2i"
   },
   "outputs": [],
   "source": [
    "model = tf.keras.models.Sequential()\n",
    "\n",
    "# CNN layer\n",
    "model.add(tf.keras.layers.Conv2D(filters=32, kernel_size=3, padding=\"same\", activation=\"relu\", input_shape=[32, 32, 3]))\n",
    "model.add(tf.keras.layers.Conv2D(filters=32, kernel_size=3, padding=\"same\", activation=\"relu\"))\n",
    "model.add(tf.keras.layers.MaxPool2D(pool_size=2, strides=2, padding='valid'))\n",
    "model.add(tf.keras.layers.Conv2D(filters=64, kernel_size=3, padding=\"same\", activation=\"relu\"))\n",
    "model.add(tf.keras.layers.Conv2D(filters=64, kernel_size=3, padding=\"same\", activation=\"relu\"))\n",
    "model.add(tf.keras.layers.MaxPool2D(pool_size=2, strides=2, padding='valid'))\n",
    "model.add(tf.keras.layers.Flatten())\n",
    "\n",
    "# Hidden layer\n",
    "model.add(tf.keras.layers.Dense(units=256, activation='relu'))\n",
    "model.add(tf.keras.layers.Dense(units=256, activation='relu'))\n",
    "model.add(tf.keras.layers.Dropout(0.2))\n",
    "\n",
    "# Output layer\n",
    "model.add(tf.keras.layers.Dense(units=10, activation='softmax'))"
   ]
  },
  {
   "cell_type": "code",
   "execution_count": null,
   "metadata": {
    "colab": {
     "base_uri": "https://localhost:8080/",
     "height": 527
    },
    "colab_type": "code",
    "executionInfo": {
     "elapsed": 668,
     "status": "ok",
     "timestamp": 1592060248409,
     "user": {
      "displayName": "Henrique Ramos Ricci",
      "photoUrl": "",
      "userId": "12588248443939115501"
     },
     "user_tz": 180
    },
    "id": "aRr3bCU-ti06",
    "outputId": "a7e73efd-a3dc-4a0c-c326-c0a60be00aa3"
   },
   "outputs": [],
   "source": [
    "model.summary()"
   ]
  },
  {
   "cell_type": "code",
   "execution_count": null,
   "metadata": {
    "colab": {},
    "colab_type": "code",
    "id": "oYHELxz4tsa-"
   },
   "outputs": [],
   "source": [
    "model.compile(loss=\"sparse_categorical_crossentropy\", optimizer=\"Adam\", metrics=[\"sparse_categorical_accuracy\"])"
   ]
  },
  {
   "cell_type": "markdown",
   "metadata": {
    "colab_type": "text",
    "id": "Gox3SmwUtwgX"
   },
   "source": [
    "### Treinando o modelo"
   ]
  },
  {
   "cell_type": "code",
   "execution_count": null,
   "metadata": {
    "colab": {
     "base_uri": "https://localhost:8080/",
     "height": 1000
    },
    "colab_type": "code",
    "executionInfo": {
     "elapsed": 746621,
     "status": "ok",
     "timestamp": 1592062112015,
     "user": {
      "displayName": "Henrique Ramos Ricci",
      "photoUrl": "",
      "userId": "12588248443939115501"
     },
     "user_tz": 180
    },
    "id": "D3MHvRYKe9fN",
    "outputId": "72cf79a1-6981-442c-a3a3-e11ecccc305d"
   },
   "outputs": [],
   "source": [
    "model.fit(X_train, y_train, epochs=100)"
   ]
  },
  {
   "cell_type": "markdown",
   "metadata": {
    "colab_type": "text",
    "id": "D8C7Pm0NuOrJ"
   },
   "source": [
    "### Avaliando o modelo"
   ]
  },
  {
   "cell_type": "code",
   "execution_count": null,
   "metadata": {
    "colab": {
     "base_uri": "https://localhost:8080/",
     "height": 54
    },
    "colab_type": "code",
    "executionInfo": {
     "elapsed": 1674,
     "status": "ok",
     "timestamp": 1592061357621,
     "user": {
      "displayName": "Henrique Ramos Ricci",
      "photoUrl": "",
      "userId": "12588248443939115501"
     },
     "user_tz": 180
    },
    "id": "Z9r8TtNet3D0",
    "outputId": "3fbde86d-fc9c-47d4-c9e7-d5271d482e09"
   },
   "outputs": [],
   "source": [
    "test_loss, test_accuracy = model.evaluate(X_test, y_test)"
   ]
  },
  {
   "cell_type": "code",
   "execution_count": null,
   "metadata": {
    "colab": {
     "base_uri": "https://localhost:8080/",
     "height": 34
    },
    "colab_type": "code",
    "executionInfo": {
     "elapsed": 686,
     "status": "ok",
     "timestamp": 1592061359360,
     "user": {
      "displayName": "Henrique Ramos Ricci",
      "photoUrl": "",
      "userId": "12588248443939115501"
     },
     "user_tz": 180
    },
    "id": "0rpAPpfzuV0p",
    "outputId": "c0d088eb-ecf5-4586-825c-3bce3a59872b"
   },
   "outputs": [],
   "source": [
    "print(\"Test accuracy: {}\".format(test_accuracy))"
   ]
  },
  {
   "cell_type": "code",
   "execution_count": null,
   "metadata": {
    "colab": {
     "base_uri": "https://localhost:8080/",
     "height": 34
    },
    "colab_type": "code",
    "executionInfo": {
     "elapsed": 642,
     "status": "ok",
     "timestamp": 1592060415531,
     "user": {
      "displayName": "Henrique Ramos Ricci",
      "photoUrl": "",
      "userId": "12588248443939115501"
     },
     "user_tz": 180
    },
    "id": "lp7HNHS7I0HU",
    "outputId": "348138e8-76b8-44b9-ceed-961fbc8b26ef"
   },
   "outputs": [],
   "source": [
    "test_loss"
   ]
  }
 ],
 "metadata": {
  "accelerator": "GPU",
  "colab": {
   "collapsed_sections": [],
   "name": "Construindo uma Rede Neural Convolucional no TensorFlow 2.0.ipynb",
   "provenance": [
    {
     "file_id": "15PS5WQxg-Ams-6RUtMCZ502tMsxft9uh",
     "timestamp": 1591991554931
    },
    {
     "file_id": "1M90124HfEO_zORhbVDdFeDMHV743eJmc",
     "timestamp": 1568419062588
    },
    {
     "file_id": "11eF0dRN2zWmXeBI3vQa2OTE-gzRp3Q7o",
     "timestamp": 1558700838561
    }
   ]
  },
  "kernelspec": {
   "display_name": "Python 3",
   "language": "python",
   "name": "python3"
  },
  "language_info": {
   "codemirror_mode": {
    "name": "ipython",
    "version": 3
   },
   "file_extension": ".py",
   "mimetype": "text/x-python",
   "name": "python",
   "nbconvert_exporter": "python",
   "pygments_lexer": "ipython3",
   "version": "3.7.6"
  }
 },
 "nbformat": 4,
 "nbformat_minor": 1
}
